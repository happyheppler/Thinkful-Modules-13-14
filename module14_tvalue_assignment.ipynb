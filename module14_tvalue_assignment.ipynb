{
 "nbformat": 4,
 "nbformat_minor": 2,
 "metadata": {
  "language_info": {
   "name": "python",
   "codemirror_mode": {
    "name": "ipython",
    "version": 3
   }
  },
  "orig_nbformat": 2,
  "file_extension": ".py",
  "mimetype": "text/x-python",
  "name": "python",
  "npconvert_exporter": "python",
  "pygments_lexer": "ipython3",
  "version": 3
 },
 "cells": [
  {
   "cell_type": "markdown",
   "execution_count": null,
   "metadata": {},
   "outputs": [],
   "source": [
    "Calculate the t-values for the following numbers:\n",
    "\n",
    "1. 𝑦1=5, 𝑦2=8, 𝑠1=1, 𝑠2=3, 𝑁1=200, 𝑁2=500\n",
    "2. 𝑦1=1090, 𝑦2=999, 𝑠1=400, 𝑠2=30, 𝑁1=900, 𝑁2=100\n",
    "3. 𝑦1=45, 𝑦2=40, 𝑠1=45, 𝑠2=40, 𝑁1=2000,  𝑁2=2000\n"
   ]
  },
  {
   "cell_type": "code",
   "execution_count": 3,
   "metadata": {},
   "outputs": [
    {
     "name": "stdout",
     "output_type": "stream",
     "text": "-19.78141420187361\n"
    }
   ],
   "source": [
    "y1 = 5\n",
    "y2 = 8\n",
    "s1 = 1\n",
    "s2 = 3\n",
    "n1 = 200\n",
    "n2 = 500\n",
    "\n",
    "t_top = y1 - y2\n",
    "t_bottom = (s1 ** 2 / n1 + s2 ** 2 / n2) ** 0.5\n",
    "t_value = t_top / t_bottom\n",
    "\n",
    "print(t_value)"
   ]
  },
  {
   "cell_type": "code",
   "execution_count": 4,
   "metadata": {},
   "outputs": [
    {
     "name": "stdout",
     "output_type": "stream",
     "text": "6.658536585365854\n"
    }
   ],
   "source": [
    "y1 = 1090\n",
    "y2 = 999\n",
    "s1 = 400\n",
    "s2 = 30\n",
    "n1 = 900\n",
    "n2 = 100\n",
    "\n",
    "t_top = y1 - y2\n",
    "t_bottom = (s1 ** 2 / n1 + s2 ** 2 / n2) ** 0.5\n",
    "t_value = t_top / t_bottom\n",
    "\n",
    "print(t_value)"
   ]
  },
  {
   "cell_type": "code",
   "execution_count": 5,
   "metadata": {},
   "outputs": [
    {
     "name": "stdout",
     "output_type": "stream",
     "text": "3.7139067635410377\n"
    }
   ],
   "source": [
    "y1 = 45\n",
    "y2 = 40\n",
    "s1 = 45\n",
    "s2 = 40\n",
    "n1 = 2000\n",
    "n2 = 2000\n",
    "\n",
    "t_top = y1 - y2\n",
    "t_bottom = (s1 ** 2 / n1 + s2 ** 2 / n2) ** 0.5\n",
    "t_value = t_top / t_bottom\n",
    "\n",
    "print(t_value)"
   ]
  },
  {
   "cell_type": "code",
   "execution_count": null,
   "metadata": {},
   "outputs": [],
   "source": []
  }
 ]
}